{
 "cells": [
  {
   "cell_type": "code",
   "execution_count": 1,
   "metadata": {},
   "outputs": [
    {
     "name": "stdout",
     "output_type": "stream",
     "text": [
      "<class 'pandas.core.frame.DataFrame'>\n",
      "RangeIndex: 91717 entries, 0 to 91716\n",
      "Data columns (total 5 columns):\n",
      " #   Column            Non-Null Count  Dtype \n",
      "---  ------            --------------  ----- \n",
      " 0   item_id           91717 non-null  int64 \n",
      " 1   item_emb_d128_v1  91717 non-null  object\n",
      " 2   item_emb_d128_v2  91717 non-null  object\n",
      " 3   item_emb_d128_v3  91717 non-null  object\n",
      " 4   item_emb_d128_e4  91717 non-null  object\n",
      "dtypes: int64(1), object(4)\n",
      "memory usage: 3.5+ MB\n",
      "None\n",
      "<class 'pandas.core.frame.DataFrame'>\n",
      "RangeIndex: 91717 entries, 0 to 91716\n",
      "Data columns (total 7 columns):\n",
      " #   Column            Non-Null Count  Dtype \n",
      "---  ------            --------------  ----- \n",
      " 0   item_id           91717 non-null  int64 \n",
      " 1   item_title        91717 non-null  object\n",
      " 2   item_tags         91717 non-null  object\n",
      " 3   likes_level       91717 non-null  int64 \n",
      " 4   views_level       91717 non-null  int64 \n",
      " 5   txt_emb_BERT      91717 non-null  object\n",
      " 6   img_emb_CLIPRN50  91717 non-null  object\n",
      "dtypes: int64(3), object(4)\n",
      "memory usage: 4.9+ MB\n",
      "None\n",
      "<class 'pandas.core.frame.DataFrame'>\n",
      "RangeIndex: 6000000 entries, 0 to 5999999\n",
      "Data columns (total 2 columns):\n",
      " #   Column    Dtype \n",
      "---  ------    ----- \n",
      " 0   user_id   int64 \n",
      " 1   item_seq  object\n",
      "dtypes: int64(1), object(1)\n",
      "memory usage: 91.6+ MB\n",
      "None\n"
     ]
    }
   ],
   "source": [
    "import pandas as pd\n",
    "import os\n",
    "\n",
    "data_dir = \"dataset/MicroLens_1M_MMCTR\"\n",
    "\n",
    "item_emb = pd.read_parquet(os.path.join(data_dir, \"item_emb.parquet\"))\n",
    "item_feature = pd.read_parquet(os.path.join(data_dir, \"item_feature.parquet\"))\n",
    "item_seq = pd.read_parquet(os.path.join(data_dir, \"item_seq.parquet\"))\n",
    "\n",
    "print(item_emb.info())\n",
    "print(item_feature.info())\n",
    "print(item_seq.info())"
   ]
  },
  {
   "cell_type": "code",
   "execution_count": 2,
   "metadata": {},
   "outputs": [
    {
     "name": "stdout",
     "output_type": "stream",
     "text": [
      "{1: 18294, 3: 34543, 2: 26276, 0: 11715, 4: 755, 5: 101, 7: 6, 10: 1, 6: 22, 9: 1, 8: 2, 13: 1}\n"
     ]
    }
   ],
   "source": [
    "import numpy as np\n",
    "one_clip = item_feature[\"item_tags\"]\n",
    "len_cnt = {}\n",
    "\n",
    "for i in range(len(one_clip)):\n",
    "    len_cnt[len(one_clip[i])] = len_cnt.get(len(one_clip[i]), 0) + 1\n",
    "\n",
    "print(len_cnt)"
   ]
  },
  {
   "cell_type": "code",
   "execution_count": 41,
   "metadata": {},
   "outputs": [
    {
     "name": "stdout",
     "output_type": "stream",
     "text": [
      "<class 'pandas.core.frame.DataFrame'>\n",
      "RangeIndex: 91718 entries, 0 to 91717\n",
      "Data columns (total 4 columns):\n",
      " #   Column         Non-Null Count  Dtype \n",
      "---  ------         --------------  ----- \n",
      " 0   item_id        91718 non-null  int64 \n",
      " 1   item_tags      91718 non-null  object\n",
      " 2   item_emb_d128  91718 non-null  object\n",
      " 3   dis_emb        91718 non-null  object\n",
      "dtypes: int64(1), object(3)\n",
      "memory usage: 2.8+ MB\n",
      "None\n"
     ]
    }
   ],
   "source": [
    "import pandas as pd\n",
    "data = pd.read_parquet(\"data/MicroLens_1M_x1/item_info_vqvae_all_emb.parquet\")\n",
    "print(data.info())"
   ]
  },
  {
   "cell_type": "code",
   "execution_count": 1,
   "metadata": {},
   "outputs": [
    {
     "name": "stdout",
     "output_type": "stream",
     "text": [
      "(11717, 1024)\n",
      "(80000, 1024)\n"
     ]
    }
   ],
   "source": [
    "import numpy as np\n",
    "\n",
    "qwen_1 = np.load(\"dataset/MicroLens_1M_MMCTR/qw_data_1.npy\")\n",
    "qwen = np.load(\"dataset/MicroLens_1M_MMCTR/qw_data.npy\")\n",
    "print(qwen_1.shape)\n",
    "print(qwen.shape)"
   ]
  },
  {
   "cell_type": "code",
   "execution_count": 2,
   "metadata": {},
   "outputs": [
    {
     "name": "stdout",
     "output_type": "stream",
     "text": [
      "(91717, 1024)\n"
     ]
    }
   ],
   "source": [
    "qwen_all = np.concatenate([qwen_1, qwen], axis=0)\n",
    "print(qwen_all.shape)"
   ]
  },
  {
   "cell_type": "code",
   "execution_count": 3,
   "metadata": {},
   "outputs": [],
   "source": [
    "np.save(\"dataset/MicroLens_1M_MMCTR/qw_data_all.npy\", qwen_all)"
   ]
  },
  {
   "cell_type": "code",
   "execution_count": 3,
   "metadata": {},
   "outputs": [
    {
     "name": "stdout",
     "output_type": "stream",
     "text": [
      "(128,)\n"
     ]
    }
   ],
   "source": [
    "import pandas as pd\n",
    "\n",
    "data = pd.read_parquet(\"./data/MicroLens_1M_x1/EMB_all_emb_cb05_data_dis128.parquet\")\n",
    "print(data[\"dis_emb\"][0].shape)"
   ]
  }
 ],
 "metadata": {
  "kernelspec": {
   "display_name": "fuxictr",
   "language": "python",
   "name": "python3"
  },
  "language_info": {
   "codemirror_mode": {
    "name": "ipython",
    "version": 3
   },
   "file_extension": ".py",
   "mimetype": "text/x-python",
   "name": "python",
   "nbconvert_exporter": "python",
   "pygments_lexer": "ipython3",
   "version": "3.9.0"
  }
 },
 "nbformat": 4,
 "nbformat_minor": 2
}
