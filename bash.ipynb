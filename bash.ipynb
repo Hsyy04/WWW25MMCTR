{
 "cells": [
  {
   "cell_type": "code",
   "execution_count": 1,
   "metadata": {},
   "outputs": [
    {
     "name": "stdout",
     "output_type": "stream",
     "text": [
      "<fuxictr.preprocess.feature_processor.FeatureProcessor object at 0x7fe8a3eecd90>\n"
     ]
    }
   ],
   "source": [
    "import pickle\n",
    "\n",
    "with open(\"data/MicroLens_1M_x1/feature_processor.pkl\", \"rb\") as f:\n",
    "    feature_processor = pickle.load(f)\n",
    "print(feature_processor)"
   ]
  },
  {
   "cell_type": "code",
   "execution_count": 13,
   "metadata": {},
   "outputs": [
    {
     "name": "stdout",
     "output_type": "stream",
     "text": [
      "   item_id  likes_level  views_level\n",
      "0        1            7            2\n",
      "1        2            5            9\n",
      "2        3            2            2\n",
      "3        4            2            1\n",
      "4        5            7            5\n"
     ]
    }
   ],
   "source": [
    "import pandas as pd\n",
    "\n",
    "new_emb = pd.read_parquet(\"data/MicroLens_1M_x1/EMB_all_emb_cb03_data.parquet\")\n",
    "item_feature = pd.read_parquet(\"dataset/MicroLens_1M_MMCTR/item_feature.parquet\")[[\"item_id\", \"likes_level\",  \"views_level\"]]\n",
    "\n",
    "print(item_feature.head())"
   ]
  },
  {
   "cell_type": "code",
   "execution_count": 14,
   "metadata": {},
   "outputs": [],
   "source": [
    "all_emb = pd.merge(new_emb, item_feature, on=\"item_id\", how=\"left\")"
   ]
  },
  {
   "cell_type": "code",
   "execution_count": 15,
   "metadata": {},
   "outputs": [
    {
     "name": "stdout",
     "output_type": "stream",
     "text": [
      "   item_id        item_tags  \\\n",
      "0        0  [0, 0, 0, 0, 0]   \n",
      "1        1  [0, 0, 0, 0, 1]   \n",
      "2        2  [0, 0, 2, 3, 4]   \n",
      "3        3  [0, 0, 5, 6, 7]   \n",
      "4        4  [0, 0, 0, 8, 9]   \n",
      "\n",
      "                                       item_emb_d128  \\\n",
      "0  [0.0, 0.0, 0.0, 0.0, 0.0, 0.0, 0.0, 0.0, 0.0, ...   \n",
      "1  [-0.587724506855011, -0.38462838530540466, 0.4...   \n",
      "2  [-2.5054404735565186, 1.5605803728103638, 0.23...   \n",
      "3  [-1.0391175746917725, 1.031670093536377, -0.45...   \n",
      "4  [0.1128326952457428, -0.7956982254981995, 0.70...   \n",
      "\n",
      "                                             dis_emb  likes  views  \n",
      "0  [0, 0, 0, 0, 0, 0, 0, 0, 0, 0, 0, 0, 0, 0, 0, ...    NaN    NaN  \n",
      "1  [860, 704, 829, 754, 698, 964, 398, 1014, 840,...    7.0    2.0  \n",
      "2  [289, 704, 209, 754, 698, 736, 286, 1014, 619,...    5.0    9.0  \n",
      "3  [17, 2, 209, 754, 698, 964, 286, 1014, 619, 72...    2.0    2.0  \n",
      "4  [991, 704, 194, 754, 698, 964, 456, 295, 840, ...    2.0    1.0  \n"
     ]
    }
   ],
   "source": [
    "all_emb = all_emb.rename(columns={\"likes_level\": \"likes\", \"views_level\": \"views\"})\n",
    "# all_emb.fillna(0, inplace=True)\n",
    "print(all_emb.head())"
   ]
  },
  {
   "cell_type": "code",
   "execution_count": 16,
   "metadata": {},
   "outputs": [],
   "source": [
    "all_emb.to_parquet(\"data/MicroLens_1M_x1/EMB_all_emb_cb03_data.parquet\")"
   ]
  },
  {
   "cell_type": "code",
   "execution_count": 13,
   "metadata": {},
   "outputs": [],
   "source": [
    "import pandas as pd\n",
    "data = pd.read_parquet(\"dataset/MicroLens_1M_MMCTR/item_seq.parquet\")\n"
   ]
  },
  {
   "cell_type": "code",
   "execution_count": 16,
   "metadata": {},
   "outputs": [
    {
     "data": {
      "text/html": [
       "<div>\n",
       "<style scoped>\n",
       "    .dataframe tbody tr th:only-of-type {\n",
       "        vertical-align: middle;\n",
       "    }\n",
       "\n",
       "    .dataframe tbody tr th {\n",
       "        vertical-align: top;\n",
       "    }\n",
       "\n",
       "    .dataframe thead th {\n",
       "        text-align: right;\n",
       "    }\n",
       "</style>\n",
       "<table border=\"1\" class=\"dataframe\">\n",
       "  <thead>\n",
       "    <tr style=\"text-align: right;\">\n",
       "      <th></th>\n",
       "      <th>user_id</th>\n",
       "      <th>item_seq</th>\n",
       "    </tr>\n",
       "  </thead>\n",
       "  <tbody>\n",
       "    <tr>\n",
       "      <th>0</th>\n",
       "      <td>1</td>\n",
       "      <td>[0, 0, 0, 0, 0, 0, 0, 0, 0, 0, 0, 0, 0, 0, 0, ...</td>\n",
       "    </tr>\n",
       "    <tr>\n",
       "      <th>1</th>\n",
       "      <td>1</td>\n",
       "      <td>[0, 0, 0, 0, 0, 0, 0, 0, 0, 0, 0, 0, 0, 0, 0, ...</td>\n",
       "    </tr>\n",
       "    <tr>\n",
       "      <th>2</th>\n",
       "      <td>1</td>\n",
       "      <td>[0, 0, 0, 0, 0, 0, 0, 0, 0, 0, 0, 0, 0, 0, 0, ...</td>\n",
       "    </tr>\n",
       "    <tr>\n",
       "      <th>3</th>\n",
       "      <td>1</td>\n",
       "      <td>[0, 0, 0, 0, 0, 0, 0, 0, 0, 0, 0, 0, 0, 0, 0, ...</td>\n",
       "    </tr>\n",
       "    <tr>\n",
       "      <th>4</th>\n",
       "      <td>1</td>\n",
       "      <td>[0, 0, 0, 0, 0, 0, 0, 0, 0, 0, 0, 0, 0, 0, 0, ...</td>\n",
       "    </tr>\n",
       "  </tbody>\n",
       "</table>\n",
       "</div>"
      ],
      "text/plain": [
       "   user_id                                           item_seq\n",
       "0        1  [0, 0, 0, 0, 0, 0, 0, 0, 0, 0, 0, 0, 0, 0, 0, ...\n",
       "1        1  [0, 0, 0, 0, 0, 0, 0, 0, 0, 0, 0, 0, 0, 0, 0, ...\n",
       "2        1  [0, 0, 0, 0, 0, 0, 0, 0, 0, 0, 0, 0, 0, 0, 0, ...\n",
       "3        1  [0, 0, 0, 0, 0, 0, 0, 0, 0, 0, 0, 0, 0, 0, 0, ...\n",
       "4        1  [0, 0, 0, 0, 0, 0, 0, 0, 0, 0, 0, 0, 0, 0, 0, ..."
      ]
     },
     "execution_count": 16,
     "metadata": {},
     "output_type": "execute_result"
    }
   ],
   "source": [
    "data.head()"
   ]
  },
  {
   "cell_type": "code",
   "execution_count": 19,
   "metadata": {},
   "outputs": [
    {
     "name": "stderr",
     "output_type": "stream",
     "text": [
      "100%|██████████| 6000000/6000000 [07:50<00:00, 12746.39it/s]\n"
     ]
    },
    {
     "data": {
      "text/plain": [
       "count    6.000000e+06\n",
       "mean     7.973784e+00\n",
       "std      7.234855e+00\n",
       "min      3.000000e+00\n",
       "25%      4.000000e+00\n",
       "50%      6.000000e+00\n",
       "75%      9.000000e+00\n",
       "max      1.000000e+02\n",
       "Name: len, dtype: float64"
      ]
     },
     "execution_count": 19,
     "metadata": {},
     "output_type": "execute_result"
    }
   ],
   "source": [
    "from tqdm import tqdm\n",
    "lens = []\n",
    "for i, item in tqdm(data.iterrows(), total=len(data)):\n",
    "    one_item = item[\"item_seq\"]\n",
    "    while(one_item[0] == 0):\n",
    "        one_item = one_item[1:]\n",
    "    lens.append(len(one_item))\n",
    "\n",
    "data[\"len\"] = lens\n",
    "data[\"len\"].describe()  "
   ]
  }
 ],
 "metadata": {
  "kernelspec": {
   "display_name": "fuxictr",
   "language": "python",
   "name": "python3"
  },
  "language_info": {
   "codemirror_mode": {
    "name": "ipython",
    "version": 3
   },
   "file_extension": ".py",
   "mimetype": "text/x-python",
   "name": "python",
   "nbconvert_exporter": "python",
   "pygments_lexer": "ipython3",
   "version": "3.9.21"
  }
 },
 "nbformat": 4,
 "nbformat_minor": 2
}
